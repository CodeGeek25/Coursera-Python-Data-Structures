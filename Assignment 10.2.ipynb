{
 "cells": [
  {
   "cell_type": "code",
   "execution_count": null,
   "metadata": {},
   "outputs": [],
   "source": [
    "'''Write a program to read through the mbox-short.txt and figure out the distribution by hour of the day for each of the messages. You can pull the hour out from the 'From ' line by finding the time and then splitting the string a second time using a colon.\n",
    "From stephen.marquard@uct.ac.za Sat Jan  5 09:14:16 2008\n",
    "Once you have accumulated the counts for each hour, print out the counts, sorted by hour as shown below.'''\n",
    "\n",
    "name = input(\"Enter file:\")\n",
    "if len(name) < 1 : name = \"mbox-short.txt\"\n",
    "handle = open(name)\n",
    "d=dict()\n",
    "for line in handle:\n",
    "    if not line.startswith('From '):\n",
    "        continue\n",
    "    else:\n",
    "        line=line.rstrip()\n",
    "        word=line.split()\n",
    "        words=word[5].split(\":\")\n",
    "        d[words[0]]=d.get(words[0],0)+1\n",
    "        \n",
    "lst=list()\n",
    "for k,v in d.items():\n",
    "    lst.append((k,v))\n",
    "    \n",
    "lst=sorted(lst)\n",
    "\n",
    "for k,v in lst:\n",
    "    print(k,v) \n",
    "\n",
    "    "
   ]
  }
 ],
 "metadata": {
  "kernelspec": {
   "display_name": "Python 3",
   "language": "python",
   "name": "python3"
  },
  "language_info": {
   "codemirror_mode": {
    "name": "ipython",
    "version": 3
   },
   "file_extension": ".py",
   "mimetype": "text/x-python",
   "name": "python",
   "nbconvert_exporter": "python",
   "pygments_lexer": "ipython3",
   "version": "3.6.5"
  }
 },
 "nbformat": 4,
 "nbformat_minor": 2
}
