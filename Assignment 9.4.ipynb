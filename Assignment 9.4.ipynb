{
 "cells": [
  {
   "cell_type": "code",
   "execution_count": null,
   "metadata": {},
   "outputs": [],
   "source": [
    "'''Write a program to read through the mbox-short.txt and figure out who has sent the greatest number of mail messages. \n",
    "The program looks for 'From ' lines and takes the second word of those lines as the person who sent the mail.\n",
    "The program creates a Python dictionary that maps the sender's mail address to a count of the number of times they appear in the file.\n",
    "After the dictionary is produced, the program reads through the dictionary using a maximum loop to find the most prolific committer.'''\n",
    "\n",
    "name = input(\"Enter file:\")\n",
    "if len(name) < 1 : name = \"mbox-short.txt\"\n",
    "handle = open(name)\n",
    "d=dict()\n",
    "for line in handle:\n",
    "    if not line.startswith('From '):\n",
    "        continue\n",
    "    else:\n",
    "        words=line.split()\n",
    "        d[words[1]]=d.get(words[1],0)+1\n",
    "        \n",
    "maxCount=None\n",
    "maxWord=None\n",
    "\n",
    "for word,count in d.items():\n",
    "    if maxCount is None or count > maxCount:\n",
    "        maxWord=word\n",
    "        maxCount=count\n",
    "print(maxWord,maxCount)"
   ]
  }
 ],
 "metadata": {
  "kernelspec": {
   "display_name": "Python 3",
   "language": "python",
   "name": "python3"
  },
  "language_info": {
   "codemirror_mode": {
    "name": "ipython",
    "version": 3
   },
   "file_extension": ".py",
   "mimetype": "text/x-python",
   "name": "python",
   "nbconvert_exporter": "python",
   "pygments_lexer": "ipython3",
   "version": "3.6.5"
  }
 },
 "nbformat": 4,
 "nbformat_minor": 2
}
